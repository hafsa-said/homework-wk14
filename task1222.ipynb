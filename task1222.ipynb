{
 "cells": [
  {
   "cell_type": "markdown",
   "id": "a717f750",
   "metadata": {},
   "source": [
    "# Q.1\n",
    "Using the documentation for Recursive Feature Selection, apply this process to the crime dataset to create the best multivariate linear regression model"
   ]
  },
  {
   "cell_type": "code",
   "execution_count": 2,
   "id": "1b6442f1",
   "metadata": {},
   "outputs": [],
   "source": [
    "import numpy as np\n",
    "import pandas as pd\n",
    "import seaborn as sns\n",
    "import matplotlib.pyplot as plt\n",
    "\n",
    "from sklearn.preprocessing import StandardScaler\n",
    "from sklearn.model_selection import train_test_split\n",
    "from sklearn.linear_model import LinearRegression\n",
    "\n",
    "from sklearn.metrics import mean_squared_error\n",
    "from sklearn.metrics import r2_score\n",
    "from sklearn.feature_selection import RFE\n",
    "from sklearn.svm import SVR"
   ]
  },
  {
   "cell_type": "markdown",
   "id": "6c7cb333",
   "metadata": {},
   "source": [
    "\n",
    "The data (X1, X2, X3, X4, X5, X6, X7) are for each city.\n",
    "\n",
    "X1 = total overall reported crime rate per 1 million residents\n",
    "\n",
    "X2 = reported violent crime rate per 100,000 residents\n",
    "\n",
    "X3 = annual police funding in $/resident\n",
    "\n",
    "X4 = % of people 25 years+ with 4 yrs. of high school\n",
    "\n",
    "X5 = % of 16 to 19 year-olds not in highschool and not highschool graduates.\n",
    "\n",
    "X6 = % of 18 to 24 year-olds in college\n",
    "\n",
    "X7 = % of people 25 years+ with at least 4 years of college\n",
    "\n",
    "Reference: Life In America's Small Cities, By G.S. Thomas\n"
   ]
  },
  {
   "cell_type": "markdown",
   "id": "91ae279c",
   "metadata": {},
   "source": [
    "RFE is feature ranking with recursive feature elimination. We remove the weakest feature or features until the desired number of features is achieved. "
   ]
  },
  {
   "cell_type": "code",
   "execution_count": 18,
   "id": "fa5bc3ad",
   "metadata": {},
   "outputs": [
    {
     "data": {
      "text/html": [
       "<div>\n",
       "<style scoped>\n",
       "    .dataframe tbody tr th:only-of-type {\n",
       "        vertical-align: middle;\n",
       "    }\n",
       "\n",
       "    .dataframe tbody tr th {\n",
       "        vertical-align: top;\n",
       "    }\n",
       "\n",
       "    .dataframe thead th {\n",
       "        text-align: right;\n",
       "    }\n",
       "</style>\n",
       "<table border=\"1\" class=\"dataframe\">\n",
       "  <thead>\n",
       "    <tr style=\"text-align: right;\">\n",
       "      <th></th>\n",
       "      <th>X1</th>\n",
       "      <th>X2</th>\n",
       "      <th>X3</th>\n",
       "      <th>X4</th>\n",
       "      <th>X5</th>\n",
       "      <th>X6</th>\n",
       "      <th>X7</th>\n",
       "    </tr>\n",
       "  </thead>\n",
       "  <tbody>\n",
       "    <tr>\n",
       "      <th>0</th>\n",
       "      <td>478</td>\n",
       "      <td>184</td>\n",
       "      <td>40</td>\n",
       "      <td>74</td>\n",
       "      <td>11</td>\n",
       "      <td>31</td>\n",
       "      <td>20</td>\n",
       "    </tr>\n",
       "    <tr>\n",
       "      <th>1</th>\n",
       "      <td>494</td>\n",
       "      <td>213</td>\n",
       "      <td>32</td>\n",
       "      <td>72</td>\n",
       "      <td>11</td>\n",
       "      <td>43</td>\n",
       "      <td>18</td>\n",
       "    </tr>\n",
       "    <tr>\n",
       "      <th>2</th>\n",
       "      <td>643</td>\n",
       "      <td>347</td>\n",
       "      <td>57</td>\n",
       "      <td>70</td>\n",
       "      <td>18</td>\n",
       "      <td>16</td>\n",
       "      <td>16</td>\n",
       "    </tr>\n",
       "    <tr>\n",
       "      <th>3</th>\n",
       "      <td>341</td>\n",
       "      <td>565</td>\n",
       "      <td>31</td>\n",
       "      <td>71</td>\n",
       "      <td>11</td>\n",
       "      <td>25</td>\n",
       "      <td>19</td>\n",
       "    </tr>\n",
       "    <tr>\n",
       "      <th>4</th>\n",
       "      <td>773</td>\n",
       "      <td>327</td>\n",
       "      <td>67</td>\n",
       "      <td>72</td>\n",
       "      <td>9</td>\n",
       "      <td>29</td>\n",
       "      <td>24</td>\n",
       "    </tr>\n",
       "  </tbody>\n",
       "</table>\n",
       "</div>"
      ],
      "text/plain": [
       "    X1   X2  X3  X4  X5  X6  X7\n",
       "0  478  184  40  74  11  31  20\n",
       "1  494  213  32  72  11  43  18\n",
       "2  643  347  57  70  18  16  16\n",
       "3  341  565  31  71  11  25  19\n",
       "4  773  327  67  72   9  29  24"
      ]
     },
     "execution_count": 18,
     "metadata": {},
     "output_type": "execute_result"
    }
   ],
   "source": [
    "df= pd.read_csv('crime_data.csv')\n",
    "df.head()"
   ]
  },
  {
   "cell_type": "code",
   "execution_count": 21,
   "id": "037c7b58",
   "metadata": {},
   "outputs": [],
   "source": [
    "y = df['X1']\n",
    "X = df.drop('X1', axis=1)\n",
    "estimator= LinearRegression()\n",
    "selector = RFE(estimator, n_features_to_select=5, step=1)"
   ]
  },
  {
   "cell_type": "code",
   "execution_count": 22,
   "id": "909ee799",
   "metadata": {},
   "outputs": [],
   "source": [
    "selection= selector.fit(X,y)"
   ]
  },
  {
   "cell_type": "code",
   "execution_count": 23,
   "id": "a2c6bf39",
   "metadata": {},
   "outputs": [
    {
     "data": {
      "text/plain": [
       "array([2, 1, 1, 1, 1, 1])"
      ]
     },
     "execution_count": 23,
     "metadata": {},
     "output_type": "execute_result"
    }
   ],
   "source": [
    "selection.ranking_"
   ]
  },
  {
   "cell_type": "markdown",
   "id": "abb4197b",
   "metadata": {},
   "source": [
    "# Q.2\n",
    "Create a list of preprocessing steps you should try when working to build a model. Briefly describe what each step is. Work with your group to come up with the most comprehensive list you can"
   ]
  },
  {
   "cell_type": "markdown",
   "id": "662c717f",
   "metadata": {},
   "source": [
    "1. Data Cleaning\n",
    "- Ignore or fill missing data\n",
    "- Binning, clustering or manually removing noisy data\n",
    "- Make sure data is consistent\n",
    "2. Data Integration\n",
    "- making sure all data attributes and formats match\n",
    "- dropping redundant attributes\n",
    "- resolution and detection of data conflicts\n",
    "3. Data Transformation\n",
    "- transforming low level data to higher level data\n",
    "- using different techniques to scale numerical data to fit within a specified range\n",
    "- new properties of data are created\n",
    "- data can be aggregated in summary format\n",
    "4. Data Reduction\n",
    "- dimensionality reduction to extract features\n",
    "- using encoding techniques to reduce the size of data\n",
    "- divide the attributes of the continuous nature into data with intervals\n",
    "- data can be represented as a model"
   ]
  }
 ],
 "metadata": {
  "kernelspec": {
   "display_name": "Python 3 (ipykernel)",
   "language": "python",
   "name": "python3"
  },
  "language_info": {
   "codemirror_mode": {
    "name": "ipython",
    "version": 3
   },
   "file_extension": ".py",
   "mimetype": "text/x-python",
   "name": "python",
   "nbconvert_exporter": "python",
   "pygments_lexer": "ipython3",
   "version": "3.9.7"
  }
 },
 "nbformat": 4,
 "nbformat_minor": 5
}
